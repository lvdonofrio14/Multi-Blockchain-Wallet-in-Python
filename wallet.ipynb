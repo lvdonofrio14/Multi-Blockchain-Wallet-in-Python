{
 "cells": [
  {
   "cell_type": "code",
   "execution_count": 19,
   "id": "8c39e10b-8bab-4c10-9e9f-6d668234126a",
   "metadata": {},
   "outputs": [],
   "source": [
    "# Import dependencies\n",
    "import subprocess\n",
    "import json\n",
    "from dotenv import load_dotenv\n",
    "import os \n",
    "from pprint import pprint "
   ]
  },
  {
   "cell_type": "code",
   "execution_count": 20,
   "id": "c12c8e22-5810-44fd-acec-863aa2193173",
   "metadata": {},
   "outputs": [],
   "source": [
    "from web3 import Account, middleware, Web3\n",
    "from web3.gas_strategies.time_based import medium_gas_price_strategy\n",
    "from web3.middleware import geth_poa_middleware"
   ]
  },
  {
   "cell_type": "code",
   "execution_count": 21,
   "id": "011cd5e6-b335-41e7-b798-95e7d19cc630",
   "metadata": {},
   "outputs": [],
   "source": [
    "# Load and set environment variables\n",
    "load_dotenv()\n",
    "mnemonic= os.getenv(\"mnemonic\")"
   ]
  },
  {
   "cell_type": "code",
   "execution_count": 22,
   "id": "f9afacc8-09e8-4e59-9ac9-8e20b6e156ce",
   "metadata": {},
   "outputs": [],
   "source": [
    "# Import constants.py and necessary functions from bit and web3\n",
    "from constants import *\n",
    " "
   ]
  },
  {
   "cell_type": "code",
   "execution_count": 23,
   "id": "a7c4d135-497a-44fe-b15c-f289249ad943",
   "metadata": {},
   "outputs": [],
   "source": [
    " # Create a function called `derive_wallets`\n",
    "def derive_wallets(coin=BTC, mnemonic=mnemonic, depth=3):\n",
    "     #./derive --key=xprv9zbB6Xchu2zRkf6jSEnH9vuy7tpBuq2njDRr9efSGBXSYr1QtN8QHRur28QLQvKRqFThCxopdS1UD61a5q6jGyuJPGLDV9XfYHQto72DAE8 --cols=path,address --coin=ZEC --numderive=3 -g\n",
    "    command =f'php ./derive -g --mnemonic=\"{mnemonic}\" --cols=all --coin={coin} --numderive={depth} --format=json'\n",
    "    p = subprocess.Popen(command, stdout=subprocess.PIPE, shell=True)\n",
    "    output, err = p.communicate()\n",
    "    p_status = p.wait()\n",
    "    return json.loads(output)"
   ]
  },
  {
   "cell_type": "code",
   "execution_count": 24,
   "id": "d0c43bf3-5072-4fac-bbb4-d7fdc9318f92",
   "metadata": {},
   "outputs": [
    {
     "name": "stdout",
     "output_type": "stream",
     "text": [
      "[{'address': '0xEda32073000B5B23A3193a3b12112d96992e219D',\n",
      "  'index': 0,\n",
      "  'path': \"m/44'/60'/0'/0/0\",\n",
      "  'privkey': '0x8bdbaa57f08c9d9f585c878930f7220f9bc020813b9b94ed3ac83d53aafe5e02',\n",
      "  'pubkey': '023a9366ea45044f93124d3f58b073cb233440cc532f229a940472c2cf84c8ca95',\n",
      "  'pubkeyhash': 'c82553693552fb813cb0023ab93ba5cbda86f5a0',\n",
      "  'xprv': 'xprvA3CF4oEpGPLju8VrpTL78TqmhxBmzNxJRFZ2288eS9KYBdUgq4gpbzcpUwufRjDgpLK77TCdw98NErSfzxvVouH7DG5vJgQW2bagRLeqQX9',\n",
      "  'xpub': 'xpub6GBbUJmi6ku37caKvUs7VbnWFz2GPqg9nUUcpWYFzUrX4RoqNc159nwJLCKdd4J1o18Tv1Mus2zxYP7PoLv32RhtB8mZDs9D8KRFcsLwGWc'},\n",
      " {'address': '0x0eB56C9cB3B3bafab8aD86B623A4b83827C58dd5',\n",
      "  'index': 1,\n",
      "  'path': \"m/44'/60'/0'/0/1\",\n",
      "  'privkey': '0x6db833fbb825cba102858b5a47e42f4efd97e846e2e8fa73ebd6c6ec13341d9f',\n",
      "  'pubkey': '029982a6704f061fb230ad067fcf60b3faf60df986fad6d4c846871e30a89c33b5',\n",
      "  'pubkeyhash': '03db0ac9ed56999b614870680e41d984c27c933a',\n",
      "  'xprv': 'xprvA3CF4oEpGPLjxDJ3vp45MKkY283vvFHdFS2XiiSYzmLoaSxwmgPg7nyGWsm8YbA9AXa1YfquszEnVHo3wELeX3ET7Q2CYJUfVNYkppUx7Pt',\n",
      "  'xpub': 'xpub6GBbUJmi6ku3AhNX2qb5iThGa9tRKi1Ucex8X6rAZ6snTFJ6KDhvfbHkN98BZiiW3sv62ZjmJszgchoXS9PXBzKhDiEQCE4AQtHAZTFGwPj'},\n",
      " {'address': '0xd8B149a4aaD4bF8E4e2bC172E607D8c3C2A96Dba',\n",
      "  'index': 2,\n",
      "  'path': \"m/44'/60'/0'/0/2\",\n",
      "  'privkey': '0x59d0c00025318aa8ed1f63f5a238b43a93b9bbe302aeb432123cceff79b0b420',\n",
      "  'pubkey': '022746780cc7c6f1f611a6600f6be481fb8a6341c38728df6faf23a5795ab7a6c5',\n",
      "  'pubkeyhash': '237671484085ae1308f116aeb3672fa103e9acad',\n",
      "  'xprv': 'xprvA3CF4oEpGPLjyduakZ47XnQfJLAA2ye5jLBbqjwYpS5XP49HJbo7R9aJCdzqXY6KQnyAz9jgFEwi4kYDJKrTdYiYae3sS6JZQWX7Z8VD6c8',\n",
      "  'xpub': 'xpub6GBbUJmi6ku3C7z3rab7tvMPrMzeSSMw6Z7Ce8MANmcWFrURr97Mxwtn3teLzJX1YhgjGVXJvYmQA6rN9aqYa6s7YipVYdXuteUHTPLQt5m'}]\n"
     ]
    }
   ],
   "source": [
    "pprint(derive_wallets(coin=ETH))"
   ]
  },
  {
   "cell_type": "code",
   "execution_count": 25,
   "id": "1f6e24b8-4fbf-4b12-84de-5c201220130e",
   "metadata": {},
   "outputs": [],
   "source": [
    "# Create a dictionary object called coins to store the output from `derive_wallets`.\n",
    "coins = {\n",
    "    ETH: derive_wallets(coin=ETH),\n",
    "    BTCTEST: derive_wallets(coin=BTCTEST)\n",
    "}"
   ]
  },
  {
   "cell_type": "code",
   "execution_count": 26,
   "id": "ecdfd62a-821c-4126-ac74-d876d67a991d",
   "metadata": {},
   "outputs": [],
   "source": [
    "# Create a function called `priv_key_to_account` that converts privkey strings to account objects.\n",
    "def priv_key_to_account(coin, priv_key):\n",
    "    if coin == 'BTCTEST':\n",
    "        return PrivateKeyTestnet(priv_key)\n",
    "    elif coin == 'ETH':\n",
    "        return Account.privateKeyToAccount(priv_key)"
   ]
  },
  {
   "cell_type": "code",
   "execution_count": 27,
   "id": "7cf1cab9-dae0-403f-b049-6e0436adba87",
   "metadata": {},
   "outputs": [],
   "source": [
    "# Create a function called `create_tx` that creates an unsigned transaction appropriate metadata.\n",
    "def create_tx(coin, account, to, amount):\n",
    "    if coin == ETH:\n",
    "        gasEstimate = w3.eth.estimateGas({\"from\": account.address, \"to\": to, \"value\": amount})\n",
    "        return{\"from\": account.address, \"to\": to, \"value\": amount, \"gasPrice\": w3.eth.gasPrice, \"gas\": gasEstimate, \"nonce\": w3.eth.getTransactionCount(account.address), \"chainID\": w3.eth.chain_id}\n",
    "    if coin == BTCTEST:\n",
    "        return PrivateKeyTestnet.prepare_transaction(account.address, [(to, amount, BTC)])"
   ]
  },
  {
   "cell_type": "code",
   "execution_count": 28,
   "id": "6c9db5ae-2a42-40c1-9e9e-d5af1904dc3f",
   "metadata": {},
   "outputs": [],
   "source": [
    "# Create a function called `send_tx` that calls `create_tx`, signs and sends the transaction.\n",
    "def send_tx(coin, account, to, amount):\n",
    "    if coin == ETH:\n",
    "        raw_tx = create_tx(coin, account, to, amount)\n",
    "        signed = account.signTransaction(raw_tx)\n",
    "        return w3.eth.sendRawTransaction(signed.rawTransaction)\n",
    "    if coin == BTCTEST:\n",
    "        raw_tx = create_tx(coin, account, to, amount)\n",
    "        signed = account.sign_transaction(raw_tx)\n",
    "        return NetworkAPI.broadcast_tx_testnet(signed)"
   ]
  },
  {
   "cell_type": "code",
   "execution_count": null,
   "id": "4c57e4e5-ce28-49ff-acb8-5ad434b62425",
   "metadata": {},
   "outputs": [],
   "source": []
  }
 ],
 "metadata": {
  "kernelspec": {
   "display_name": "Python 3",
   "language": "python",
   "name": "python3"
  },
  "language_info": {
   "codemirror_mode": {
    "name": "ipython",
    "version": 3
   },
   "file_extension": ".py",
   "mimetype": "text/x-python",
   "name": "python",
   "nbconvert_exporter": "python",
   "pygments_lexer": "ipython3",
   "version": "3.8.5"
  }
 },
 "nbformat": 4,
 "nbformat_minor": 5
}
